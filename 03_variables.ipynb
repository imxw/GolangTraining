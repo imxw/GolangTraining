{
 "cells": [
  {
   "cell_type": "markdown",
   "metadata": {},
   "source": [
    "## 01_shortand"
   ]
  },
  {
   "cell_type": "code",
   "execution_count": 3,
   "metadata": {},
   "outputs": [
    {
     "name": "stdout",
     "output_type": "stream",
     "text": [
      "10 \n",
      "golang \n",
      "4.17 \n",
      "true \n",
      "Hello \n",
      "Do you like my hat? \n",
      "77 \n"
     ]
    }
   ],
   "source": [
    "package main\n",
    "\n",
    "import \"fmt\"\n",
    "\n",
    "func main() {\n",
    "    \n",
    "    a := 10\n",
    "    b := \"golang\"\n",
    "    c := 4.17\n",
    "    d := true\n",
    "    e := \"Hello\"\n",
    "    f := `Do you like my hat?`\n",
    "    g := 'M'\n",
    "    \n",
    "    fmt.Printf(\"%v \\n\", a)\n",
    "    fmt.Printf(\"%v \\n\", b) \n",
    "    fmt.Printf(\"%v \\n\", c)\n",
    "    fmt.Printf(\"%v \\n\", d)\n",
    "    fmt.Printf(\"%v \\n\", e)\n",
    "    fmt.Printf(\"%v \\n\", f) \n",
    "    fmt.Printf(\"%v \\n\", g)   \n",
    "}\n",
    "main()"
   ]
  },
  {
   "cell_type": "markdown",
   "metadata": {},
   "source": [
    "%v  相应值的默认格式。在打印结构体时，“加号”标记（%+v）会添加字段名\n",
    "\n",
    "%T  相应值的类型的 Go 语法表示"
   ]
  },
  {
   "cell_type": "code",
   "execution_count": 4,
   "metadata": {},
   "outputs": [
    {
     "name": "stdout",
     "output_type": "stream",
     "text": [
      "int \n",
      "string \n",
      "float64 \n",
      "bool \n",
      "string \n",
      "string \n",
      "int32 \n"
     ]
    }
   ],
   "source": [
    "package main\n",
    "\n",
    "import \"fmt\"\n",
    "\n",
    "func main() {\n",
    "    \n",
    "    a := 10\n",
    "    b := \"golang\"\n",
    "    c := 4.17\n",
    "    d := true\n",
    "    e := \"Hello\"\n",
    "    f := `Do you like my hat?`\n",
    "    g := 'M'\n",
    "    \n",
    "    fmt.Printf(\"%T \\n\", a)\n",
    "    fmt.Printf(\"%T \\n\", b) \n",
    "    fmt.Printf(\"%T \\n\", c)\n",
    "    fmt.Printf(\"%T \\n\", d)\n",
    "    fmt.Printf(\"%T \\n\", e)\n",
    "    fmt.Printf(\"%T \\n\", f) \n",
    "    fmt.Printf(\"%T \\n\", g) \n",
    "    \n",
    "}\n",
    "main()"
   ]
  },
  {
   "cell_type": "markdown",
   "metadata": {},
   "source": [
    "## 02_var_zero_value\n",
    "\n",
    "零值"
   ]
  },
  {
   "cell_type": "code",
   "execution_count": 5,
   "metadata": {},
   "outputs": [
    {
     "name": "stdout",
     "output_type": "stream",
     "text": [
      "0 \n",
      " \n",
      "0 \n",
      "false \n",
      "\n"
     ]
    }
   ],
   "source": [
    "package main\n",
    "\n",
    "import \"fmt\"\n",
    "\n",
    "func main() {\n",
    "    \n",
    "    var a int\n",
    "    var b string\n",
    "    var c float64\n",
    "    var d bool\n",
    "    \n",
    "    fmt.Printf(\"%v \\n\", a)\n",
    "    fmt.Printf(\"%v \\n\", b)\n",
    "    fmt.Printf(\"%v \\n\", c)\n",
    "    fmt.Printf(\"%v \\n\", d)\n",
    "    \n",
    "    fmt.Println()\n",
    "}\n",
    "\n",
    "main()"
   ]
  },
  {
   "cell_type": "markdown",
   "metadata": {},
   "source": [
    "## 03_less-emphasis"
   ]
  },
  {
   "cell_type": "markdown",
   "metadata": {},
   "source": [
    "### 声明变量"
   ]
  },
  {
   "cell_type": "code",
   "execution_count": 6,
   "metadata": {},
   "outputs": [
    {
     "name": "stdout",
     "output_type": "stream",
     "text": [
      "Hello World.\n"
     ]
    }
   ],
   "source": [
    "package main\n",
    "\n",
    "import \"fmt\"\n",
    "\n",
    "func main() {\n",
    "    \n",
    "    var message string\n",
    "    message = \"Hello World.\"\n",
    "    fmt.Println(message)\n",
    "}\n",
    "main()"
   ]
  },
  {
   "cell_type": "markdown",
   "metadata": {},
   "source": [
    "### 一次声明多个变量"
   ]
  },
  {
   "cell_type": "code",
   "execution_count": 7,
   "metadata": {},
   "outputs": [
    {
     "name": "stdout",
     "output_type": "stream",
     "text": [
      "Hello World! 1 0 0\n"
     ]
    }
   ],
   "source": [
    "package main\n",
    "\n",
    "import \"fmt\"\n",
    "\n",
    "func main() {\n",
    "    var message string\n",
    "    var a, b, c int\n",
    "    a = 1\n",
    "    \n",
    "    message = \"Hello World!\"\n",
    "    \n",
    "    fmt.Println(message, a, b, c)\n",
    "}\n",
    "main()"
   ]
  },
  {
   "cell_type": "markdown",
   "metadata": {},
   "source": [
    "### 一次初始化多个变量"
   ]
  },
  {
   "cell_type": "code",
   "execution_count": 9,
   "metadata": {},
   "outputs": [
    {
     "name": "stdout",
     "output_type": "stream",
     "text": [
      "Hello World! 1 2 3\n"
     ]
    }
   ],
   "source": [
    "package main\n",
    "\n",
    "import \"fmt\"\n",
    "\n",
    "func main() {\n",
    "    var message = \"Hello World!\"\n",
    "    var a, b, c int = 1, 2, 3\n",
    "    \n",
    "    fmt.Println(message, a, b, c)\n",
    "}\n",
    "main()"
   ]
  },
  {
   "cell_type": "markdown",
   "metadata": {},
   "source": [
    "### 类型推断"
   ]
  },
  {
   "cell_type": "code",
   "execution_count": 10,
   "metadata": {},
   "outputs": [
    {
     "name": "stdout",
     "output_type": "stream",
     "text": [
      "Hello World! 1 2 3\n"
     ]
    }
   ],
   "source": [
    "package main\n",
    "\n",
    "import \"fmt\"\n",
    "\n",
    "func main() {\n",
    "    \n",
    "    var message = \"Hello World!\"\n",
    "    var a, b, c = 1, 2, 3\n",
    "    \n",
    "    fmt.Println(message, a, b, c)\n",
    "}\n",
    "main()"
   ]
  },
  {
   "cell_type": "markdown",
   "metadata": {},
   "source": [
    "### 混合类型推断"
   ]
  },
  {
   "cell_type": "code",
   "execution_count": 11,
   "metadata": {},
   "outputs": [
    {
     "name": "stdout",
     "output_type": "stream",
     "text": [
      "Hello World! 1 false 3\n"
     ]
    }
   ],
   "source": [
    "package main\n",
    "\n",
    "import \"fmt\"\n",
    "\n",
    "func main() {\n",
    "    \n",
    "    var message = \"Hello World!\"\n",
    "    var a, b, c = 1, false, 3\n",
    "    \n",
    "    fmt.Println(message, a, b, c)\n",
    "}\n",
    "main()"
   ]
  },
  {
   "cell_type": "markdown",
   "metadata": {},
   "source": [
    "### init-shortand\n",
    "\n",
    "变量初始化，短格式。只在函数体内生效。"
   ]
  },
  {
   "cell_type": "code",
   "execution_count": 13,
   "metadata": {},
   "outputs": [
    {
     "name": "stdout",
     "output_type": "stream",
     "text": [
      "Hello World! 1 false 3 4 true\n"
     ]
    }
   ],
   "source": [
    "package main\n",
    "\n",
    "import \"fmt\"\n",
    "\n",
    "func main() {\n",
    "    \n",
    "    message := \"Hello World!\"\n",
    "    a, b, c := 1, false, 3\n",
    "    d := 4\n",
    "    e := true\n",
    "    \n",
    "    fmt.Println(message, a, b, c, d, e)\n",
    "}\n",
    "main()"
   ]
  },
  {
   "cell_type": "markdown",
   "metadata": {},
   "source": [
    "### all-together"
   ]
  },
  {
   "cell_type": "code",
   "execution_count": 14,
   "metadata": {},
   "outputs": [
    {
     "name": "stdout",
     "output_type": "stream",
     "text": [
      "a -  this is stored in the variable a\n",
      "b -  stored in b\n",
      "c -  stored in c\n",
      "d -  stored in d\n",
      "e -  42\n",
      "f -  43\n",
      "g -  stored in g\n",
      "h -  stored in h\n",
      "i -  stored in i\n",
      "j -  44.7\n",
      "k -  true\n",
      "l -  false\n",
      "m -  109\n",
      "n -  n\n",
      "o -  o\n"
     ]
    }
   ],
   "source": [
    "package main\n",
    "\n",
    "import \"fmt\"\n",
    "\n",
    "var a = \"this is stored in the variable a\"\n",
    "var b, c string = \"stored in b\", \"stored in c\"\n",
    "var d string\n",
    "\n",
    "func main() {\n",
    "    \n",
    "    d = \"stored in d\" //declaration above; assignment here; package scope\n",
    "    var e = 42       // function scope - subsequent variables have func scope:\n",
    "    f := 43\n",
    "    g := \"stored in g\"\n",
    "    h, i := \"stored in h\", \"stored in i\"\n",
    "    j, k, l, m := 44.7, true, false, 'm' // 单引号\n",
    "    n := \"n\"                             // 双引号\n",
    "    o := `o`                             // back ticks\n",
    "    \n",
    "    fmt.Println(\"a - \", a)\n",
    "    fmt.Println(\"b - \", b)\n",
    "    fmt.Println(\"c - \", c)\n",
    "    fmt.Println(\"d - \", d)\n",
    "    fmt.Println(\"e - \", e)\n",
    "    fmt.Println(\"f - \", f)\n",
    "    fmt.Println(\"g - \", g)\n",
    "    fmt.Println(\"h - \", h)\n",
    "    fmt.Println(\"i - \", i)\n",
    "    fmt.Println(\"j - \", j)\n",
    "    fmt.Println(\"k - \", k)\n",
    "    fmt.Println(\"l - \", l)\n",
    "    fmt.Println(\"m - \", m)\n",
    "    fmt.Println(\"n - \", n)\n",
    "    fmt.Println(\"o - \", o)\n",
    "\n",
    "}\n",
    "main()"
   ]
  },
  {
   "cell_type": "markdown",
   "metadata": {},
   "source": [
    "### exercise_your-name"
   ]
  },
  {
   "cell_type": "code",
   "execution_count": 15,
   "metadata": {},
   "outputs": [
    {
     "name": "stdout",
     "output_type": "stream",
     "text": [
      "Hello  Todd\n"
     ]
    }
   ],
   "source": [
    "package main\n",
    "\n",
    "import \"fmt\"\n",
    "\n",
    "var name = \"Todd\"\n",
    "\n",
    "func main() {\n",
    "    fmt.Println(\"Hello \", name)\n",
    "}\n",
    "main()"
   ]
  },
  {
   "cell_type": "code",
   "execution_count": 17,
   "metadata": {},
   "outputs": [
    {
     "name": "stdout",
     "output_type": "stream",
     "text": [
      "Hello  Todd\n"
     ]
    }
   ],
   "source": [
    "package main\n",
    "\n",
    "import \"fmt\"\n",
    "\n",
    "func main() {\n",
    "    var name = \"Todd\"\n",
    "    fmt.Println(\"Hello \", name)\n",
    "}\n",
    "main()"
   ]
  },
  {
   "cell_type": "code",
   "execution_count": 18,
   "metadata": {},
   "outputs": [
    {
     "name": "stdout",
     "output_type": "stream",
     "text": [
      "Hello  Todd\n"
     ]
    }
   ],
   "source": [
    "package main\n",
    "\n",
    "import \"fmt\"\n",
    "\n",
    "func main() {\n",
    "    name := \"Todd\"\n",
    "    fmt.Println(\"Hello \", name)\n",
    "}\n",
    "main()"
   ]
  },
  {
   "cell_type": "code",
   "execution_count": 19,
   "metadata": {},
   "outputs": [
    {
     "name": "stdout",
     "output_type": "stream",
     "text": [
      "Hello  Todd\n"
     ]
    }
   ],
   "source": [
    "package main\n",
    "\n",
    "import \"fmt\"\n",
    "\n",
    "func main() {\n",
    "    name := `Todd` // back-ticks work like double-quotes\n",
    "    fmt.Println(\"Hello \", name)\n",
    "}\n",
    "main()"
   ]
  },
  {
   "cell_type": "code",
   "execution_count": null,
   "metadata": {},
   "outputs": [],
   "source": []
  }
 ],
 "metadata": {
  "kernelspec": {
   "display_name": "Go",
   "language": "go",
   "name": "gophernotes"
  },
  "language_info": {
   "codemirror_mode": "",
   "file_extension": ".go",
   "mimetype": "",
   "name": "go",
   "nbconvert_exporter": "",
   "pygments_lexer": "",
   "version": "go1.14.1"
  }
 },
 "nbformat": 4,
 "nbformat_minor": 2
}
