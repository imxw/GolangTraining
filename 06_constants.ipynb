{
 "cells": [
  {
   "cell_type": "markdown",
   "metadata": {},
   "source": [
    "## 01_constant\n",
    "\n",
    "常量值不可修改"
   ]
  },
  {
   "cell_type": "code",
   "execution_count": 2,
   "metadata": {},
   "outputs": [
    {
     "name": "stdout",
     "output_type": "stream",
     "text": [
      "p -  death & taxes\n",
      "q -  42\n"
     ]
    }
   ],
   "source": [
    "package main\n",
    "\n",
    "import \"fmt\"\n",
    "\n",
    "const p = \"death & taxes\"\n",
    "\n",
    "func main() {\n",
    "    \n",
    "    const q = 42\n",
    "    \n",
    "    fmt.Println(\"p - \", p)\n",
    "    fmt.Println(\"q - \", q)\n",
    "}\n",
    "main()\n",
    "// a CONSTANT is a simple unchanging value"
   ]
  },
  {
   "cell_type": "markdown",
   "metadata": {},
   "source": [
    "## 02_mutiple-initialization"
   ]
  },
  {
   "cell_type": "code",
   "execution_count": 3,
   "metadata": {},
   "outputs": [
    {
     "name": "stdout",
     "output_type": "stream",
     "text": [
      "3.14\n",
      "Go\n"
     ]
    }
   ],
   "source": [
    "package main\n",
    "\n",
    "import \"fmt\"\n",
    "\n",
    "const (\n",
    "    pi       = 3.14\n",
    "    language = \"Go\"\n",
    ")\n",
    "\n",
    "func main() {\n",
    "    fmt.Println(pi)\n",
    "    fmt.Println(language)\n",
    "}\n",
    "main()"
   ]
  },
  {
   "cell_type": "markdown",
   "metadata": {},
   "source": [
    "## iota"
   ]
  },
  {
   "cell_type": "code",
   "execution_count": 4,
   "metadata": {},
   "outputs": [
    {
     "name": "stdout",
     "output_type": "stream",
     "text": [
      "0\n",
      "1\n",
      "2\n"
     ]
    }
   ],
   "source": [
    "package main\n",
    "\n",
    "import \"fmt\"\n",
    "\n",
    "const (\n",
    "    a = iota //0\n",
    "    b = iota //1\n",
    "    c = iota //2\n",
    ")\n",
    "\n",
    "func main() {\n",
    "    fmt.Println(a)\n",
    "    fmt.Println(b)\n",
    "    fmt.Println(c)\n",
    "}\n",
    "\n",
    "main()"
   ]
  },
  {
   "cell_type": "code",
   "execution_count": 5,
   "metadata": {},
   "outputs": [
    {
     "name": "stdout",
     "output_type": "stream",
     "text": [
      "0\n",
      "1\n",
      "2\n"
     ]
    }
   ],
   "source": [
    "package main\n",
    "\n",
    "import \"fmt\"\n",
    "\n",
    "const (\n",
    "\ta = iota // 0\n",
    "\tb        // 1\n",
    "\tc        // 2\n",
    ")\n",
    "\n",
    "func main() {\n",
    "\tfmt.Println(a)\n",
    "\tfmt.Println(b)\n",
    "\tfmt.Println(c)\n",
    "}\n",
    "\n",
    "main()"
   ]
  },
  {
   "cell_type": "code",
   "execution_count": 6,
   "metadata": {},
   "outputs": [
    {
     "name": "stdout",
     "output_type": "stream",
     "text": [
      "0\n",
      "1\n",
      "2\n",
      "0\n",
      "1\n",
      "2\n"
     ]
    }
   ],
   "source": [
    "package main\n",
    "\n",
    "import \"fmt\"\n",
    "\n",
    "const (\n",
    "\ta = iota // 0\n",
    "\tb        // 1\n",
    "\tc        // 2\n",
    ")\n",
    "\n",
    "const (\n",
    "\td = iota // 0\n",
    "\te        // 1\n",
    "\tf        // 2\n",
    ")\n",
    "\n",
    "func main() {\n",
    "\tfmt.Println(a)\n",
    "\tfmt.Println(b)\n",
    "\tfmt.Println(c)\n",
    "\tfmt.Println(d)\n",
    "\tfmt.Println(e)\n",
    "\tfmt.Println(f)\n",
    "}\n",
    "\n",
    "main()"
   ]
  },
  {
   "cell_type": "code",
   "execution_count": 8,
   "metadata": {},
   "outputs": [
    {
     "name": "stdout",
     "output_type": "stream",
     "text": [
      "10\n",
      "20\n"
     ]
    }
   ],
   "source": [
    "package main\n",
    "\n",
    "import \"fmt\"\n",
    "\n",
    "const (\n",
    "\t_ = iota      // 0\n",
    "\tb = iota * 10 // 1 * 10\n",
    "\tc = iota * 10 // 2 * 10\n",
    ")\n",
    "\n",
    "func main() {\n",
    "\tfmt.Println(b)\n",
    "\tfmt.Println(c)\n",
    "}\n",
    "\n",
    "main()"
   ]
  },
  {
   "cell_type": "code",
   "execution_count": 9,
   "metadata": {},
   "outputs": [
    {
     "name": "stdout",
     "output_type": "stream",
     "text": [
      "binary\t\tdecimal\n",
      "10000000000\t1024\n",
      "100000000000000000000\t1048576\n",
      "1000000000000000000000000000000\t1073741824\n",
      "10000000000000000000000000000000000000000\t1099511627776\n"
     ]
    }
   ],
   "source": [
    "package main\n",
    "\n",
    "import \"fmt\"\n",
    "\n",
    "const (\n",
    "    _ = iota              //0\n",
    "    KB = 1 << (iota * 10) // 1 << (1 * 10)\n",
    "    MB = 1 << (iota * 10) // 1 << (2 * 10)\n",
    "    GB = 1 << (iota * 10) // 1 << (3 * 10)\n",
    "    TB = 1 << (iota * 10) // 1 << (4 * 10)\n",
    "\n",
    ")\n",
    "\n",
    "func main() {\n",
    "    \n",
    "    fmt.Println(\"binary\\t\\tdecimal\")\n",
    "    fmt.Printf(\"%b\\t\", KB)\n",
    "\tfmt.Printf(\"%d\\n\", KB)\n",
    "\tfmt.Printf(\"%b\\t\", MB)\n",
    "\tfmt.Printf(\"%d\\n\", MB)\n",
    "\tfmt.Printf(\"%b\\t\", GB)\n",
    "\tfmt.Printf(\"%d\\n\", GB)\n",
    "\tfmt.Printf(\"%b\\t\", TB)\n",
    "\tfmt.Printf(\"%d\\n\", TB)\n",
    "}\n",
    "\n",
    "main()"
   ]
  },
  {
   "cell_type": "code",
   "execution_count": null,
   "metadata": {},
   "outputs": [],
   "source": []
  }
 ],
 "metadata": {
  "kernelspec": {
   "display_name": "Go",
   "language": "go",
   "name": "gophernotes"
  },
  "language_info": {
   "codemirror_mode": "",
   "file_extension": ".go",
   "mimetype": "",
   "name": "go",
   "nbconvert_exporter": "",
   "pygments_lexer": "",
   "version": "go1.14.1"
  }
 },
 "nbformat": 4,
 "nbformat_minor": 2
}
