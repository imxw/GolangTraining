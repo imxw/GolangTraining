{
 "cells": [
  {
   "cell_type": "markdown",
   "metadata": {},
   "source": [
    "## 01 package-scope"
   ]
  },
  {
   "cell_type": "code",
   "execution_count": 1,
   "metadata": {},
   "outputs": [
    {
     "name": "stdout",
     "output_type": "stream",
     "text": [
      "42\n",
      "42\n"
     ]
    }
   ],
   "source": [
    "package main\n",
    "\n",
    "import \"fmt\"\n",
    "\n",
    "var x = 42\n",
    "\n",
    "func main() {\n",
    "    \n",
    "    fmt.Println(x)\n",
    "    foo()\n",
    "}\n",
    "\n",
    "func foo() {\n",
    "    fmt.Println(x)\n",
    "}\n",
    "main()"
   ]
  },
  {
   "cell_type": "code",
   "execution_count": 4,
   "metadata": {},
   "outputs": [
    {
     "name": "stdout",
     "output_type": "stream",
     "text": [
      "Todd\n",
      "Todd\n",
      "Future Rock Star Programmer\n"
     ]
    }
   ],
   "source": [
    "package main\n",
    "\n",
    "import (\n",
    "    \"fmt\"\n",
    "    \"github.com/GoesToEleven/GolangTraining/04_scope/01_package-scope/02_visibility/vis\"\n",
    ")\n",
    "\n",
    "func main() {\n",
    "    fmt.Println(vis.MyName)\n",
    "    vis.PrintVar()\n",
    "}\n",
    "main()"
   ]
  },
  {
   "cell_type": "markdown",
   "metadata": {},
   "source": [
    "## 02 block-scope"
   ]
  },
  {
   "cell_type": "markdown",
   "metadata": {},
   "source": [
    "### this does not compile"
   ]
  },
  {
   "cell_type": "code",
   "execution_count": 5,
   "metadata": {},
   "outputs": [
    {
     "name": "stdout",
     "output_type": "stream",
     "text": [
      "42\n",
      "42\n"
     ]
    }
   ],
   "source": [
    "package main\n",
    "\n",
    "import \"fmt\"\n",
    "\n",
    "func main() {\n",
    "    x := 42\n",
    "    fmt.Println(x)\n",
    "    foo()\n",
    "}\n",
    "\n",
    "func foo() {\n",
    "    // no access to x\n",
    "    // this does not compile\n",
    "    fmt.Println(x)\n",
    "}\n",
    "main()"
   ]
  },
  {
   "cell_type": "markdown",
   "metadata": {},
   "source": [
    "### closure"
   ]
  },
  {
   "cell_type": "code",
   "execution_count": 8,
   "metadata": {},
   "outputs": [
    {
     "name": "stdout",
     "output_type": "stream",
     "text": [
      "42\n",
      "42\n",
      "The credit belongs with the one who is in the ring.\n"
     ]
    }
   ],
   "source": [
    "package main \n",
    "\n",
    "import \"fmt\"\n",
    "\n",
    "func main() {\n",
    "    \n",
    "    x := 42\n",
    "    fmt.Println(x)\n",
    "    {\n",
    "        fmt.Println(x)\n",
    "        y := \"The credit belongs with the one who is in the ring.\"\n",
    "        fmt.Println(y)\n",
    "    }\n",
    "    // outside scope of y\n",
    "    //fmt.Println(y) // 会报错 repl.go:14:17: undefined identifier: y\n",
    "}\n",
    "main()"
   ]
  },
  {
   "cell_type": "code",
   "execution_count": 9,
   "metadata": {},
   "outputs": [
    {
     "name": "stdout",
     "output_type": "stream",
     "text": [
      "1\n",
      "2\n"
     ]
    }
   ],
   "source": [
    "package main\n",
    "\n",
    "import \"fmt\"\n",
    "\n",
    "var x = 0\n",
    "\n",
    "func increment() int {\n",
    "    x++\n",
    "    return x\n",
    "}\n",
    "\n",
    "func main() {\n",
    "    \n",
    "    fmt.Println(increment())\n",
    "    fmt.Println(increment())\n",
    "}\n",
    "main()\n",
    "\n",
    "/*\n",
    "closure helps us limit the scope of variables used by multiple functions\n",
    "without closure, for two or more funcs to have access to the same variable,\n",
    "that variable would need to be package scope\n",
    "*/"
   ]
  },
  {
   "cell_type": "code",
   "execution_count": 11,
   "metadata": {},
   "outputs": [
    {
     "name": "stdout",
     "output_type": "stream",
     "text": [
      "1\n",
      "2\n"
     ]
    }
   ],
   "source": [
    "package main\n",
    "\n",
    "import \"fmt\"\n",
    "\n",
    "func main() {\n",
    "\tx := 0\n",
    "\tincrement := func() int {\n",
    "\t\tx++\n",
    "\t\treturn x\n",
    "\t}\n",
    "\tfmt.Println(increment())\n",
    "\tfmt.Println(increment())\n",
    "}\n",
    "main()\n",
    "/*\n",
    "closure helps us limit the scope of variables used by multiple functions\n",
    "without closure, for two or more funcs to have access to the same variable,\n",
    "that variable would need to be package scope\n",
    "anonymous function\n",
    "a function without a name\n",
    "func expression\n",
    "assigning a func to a variable\n",
    "*/"
   ]
  },
  {
   "cell_type": "code",
   "execution_count": 12,
   "metadata": {},
   "outputs": [
    {
     "name": "stdout",
     "output_type": "stream",
     "text": [
      "1\n",
      "2\n"
     ]
    }
   ],
   "source": [
    "package main\n",
    "\n",
    "import \"fmt\"\n",
    "\n",
    "func wrapper() func() int {\n",
    "\tx := 0\n",
    "\treturn func() int {\n",
    "\t\tx++\n",
    "\t\treturn x\n",
    "\t}\n",
    "}\n",
    "\n",
    "func main() {\n",
    "\tincrement := wrapper()\n",
    "\tfmt.Println(increment())\n",
    "\tfmt.Println(increment())\n",
    "}\n",
    "main()\n",
    "/*\n",
    "closure helps us limit the scope of variables used by multiple functions\n",
    "without closure, for two or more funcs to have access to the same variable,\n",
    "that variable would need to be package scope\n",
    "*/"
   ]
  },
  {
   "cell_type": "markdown",
   "metadata": {},
   "source": [
    "## 03 order-matters"
   ]
  },
  {
   "cell_type": "code",
   "execution_count": 13,
   "metadata": {},
   "outputs": [
    {
     "name": "stdout",
     "output_type": "stream",
     "text": [
      "2\n",
      "42\n"
     ]
    }
   ],
   "source": [
    "package main\n",
    "\n",
    "import \"fmt\"\n",
    "\n",
    "func main() {\n",
    "\tfmt.Println(x)\n",
    "\tfmt.Println(y)\n",
    "\tx := 42\n",
    "}\n",
    "\n",
    "var y = 42\n",
    "\n",
    "main()"
   ]
  },
  {
   "cell_type": "markdown",
   "metadata": {},
   "source": [
    "## 04 variable-shadowing"
   ]
  },
  {
   "cell_type": "code",
   "execution_count": 14,
   "metadata": {},
   "outputs": [
    {
     "name": "stdout",
     "output_type": "stream",
     "text": [
      "49\n"
     ]
    }
   ],
   "source": [
    "package main\n",
    "\n",
    "import \"fmt\"\n",
    "\n",
    "func max(x int) int {\n",
    "\treturn 42 + x\n",
    "}\n",
    "\n",
    "func main() {\n",
    "\tmax := max(7)\n",
    "\tfmt.Println(max) // max is now the result, not the function\n",
    "}\n",
    "\n",
    "// don't do this; bad coding practice to shadow variables\n",
    "\n",
    "main()"
   ]
  },
  {
   "cell_type": "code",
   "execution_count": 15,
   "metadata": {},
   "outputs": [],
   "source": [
    "package main\n",
    "\n",
    "var x = 7"
   ]
  },
  {
   "cell_type": "code",
   "execution_count": 16,
   "metadata": {},
   "outputs": [
    {
     "name": "stdout",
     "output_type": "stream",
     "text": [
      "7\n"
     ]
    }
   ],
   "source": [
    "package main\n",
    "\n",
    "import \"fmt\"\n",
    "\n",
    "func main() {\n",
    "\tfmt.Println(x)\n",
    "}\n",
    "main()"
   ]
  },
  {
   "cell_type": "code",
   "execution_count": null,
   "metadata": {},
   "outputs": [],
   "source": []
  }
 ],
 "metadata": {
  "kernelspec": {
   "display_name": "Go",
   "language": "go",
   "name": "gophernotes"
  },
  "language_info": {
   "codemirror_mode": "",
   "file_extension": ".go",
   "mimetype": "",
   "name": "go",
   "nbconvert_exporter": "",
   "pygments_lexer": "",
   "version": "go1.14.1"
  }
 },
 "nbformat": 4,
 "nbformat_minor": 2
}
