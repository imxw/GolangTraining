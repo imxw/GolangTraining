{
 "cells": [
  {
   "cell_type": "markdown",
   "metadata": {},
   "source": [
    "[github.com/GoesToEleven/GolangTraining/02_package/stringutil](https://github.com/GoesToEleven/GolangTraining/tree/master/02_package/stringutil)\n",
    "\n",
    "[github.com/GoesToEleven/GolangTraining/02_package/icomefromalaska](https://github.com/GoesToEleven/GolangTraining/tree/master/02_package/icomefromalaska)"
   ]
  },
  {
   "cell_type": "code",
   "execution_count": 4,
   "metadata": {},
   "outputs": [
    {
     "name": "stdout",
     "output_type": "stream",
     "text": [
      "Hello, Go!\n",
      "Todd\n",
      "Pooh\n"
     ]
    }
   ],
   "source": [
    "package main\n",
    "\n",
    "import (\n",
    "    \"fmt\"\n",
    "    \"github.com/GoesToEleven/GolangTraining/02_package/stringutil\"\n",
    "    \"github.com/GoesToEleven/GolangTraining/02_package/icomefromalaska\"\n",
    ")\n",
    "\n",
    "func main() {\n",
    "    fmt.Println(stringutil.Reverse(\"!oG ,olleH\"))\n",
    "    fmt.Println(stringutil.MyName)\n",
    "    fmt.Println(winniepooh.BearName)\n",
    "}\n",
    "main()"
   ]
  },
  {
   "cell_type": "code",
   "execution_count": null,
   "metadata": {},
   "outputs": [],
   "source": []
  }
 ],
 "metadata": {
  "kernelspec": {
   "display_name": "Go",
   "language": "go",
   "name": "gophernotes"
  },
  "language_info": {
   "codemirror_mode": "",
   "file_extension": ".go",
   "mimetype": "",
   "name": "go",
   "nbconvert_exporter": "",
   "pygments_lexer": "",
   "version": "go1.14.1"
  }
 },
 "nbformat": 4,
 "nbformat_minor": 2
}
